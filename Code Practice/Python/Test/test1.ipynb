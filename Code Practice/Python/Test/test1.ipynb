{
 "cells": [
  {
   "cell_type": "code",
   "execution_count": 3,
   "metadata": {},
   "outputs": [],
   "source": [
    "import pandas as pd"
   ]
  },
  {
   "cell_type": "code",
   "execution_count": 4,
   "metadata": {},
   "outputs": [],
   "source": [
    "df = pd.read_csv(r'C:\\Users\\pokhr\\Desktop\\Work\\Data Science\\Data\\Jomato.csv')"
   ]
  },
  {
   "cell_type": "code",
   "execution_count": 5,
   "metadata": {},
   "outputs": [
    {
     "data": {
      "text/html": [
       "<div>\n",
       "<style scoped>\n",
       "    .dataframe tbody tr th:only-of-type {\n",
       "        vertical-align: middle;\n",
       "    }\n",
       "\n",
       "    .dataframe tbody tr th {\n",
       "        vertical-align: top;\n",
       "    }\n",
       "\n",
       "    .dataframe thead th {\n",
       "        text-align: right;\n",
       "    }\n",
       "</style>\n",
       "<table border=\"1\" class=\"dataframe\">\n",
       "  <thead>\n",
       "    <tr style=\"text-align: right;\">\n",
       "      <th></th>\n",
       "      <th>OrderId</th>\n",
       "      <th>RestaurantName</th>\n",
       "      <th>RestaurantType</th>\n",
       "      <th>Rating</th>\n",
       "      <th>No.of.Rating</th>\n",
       "      <th>AverageCost</th>\n",
       "      <th>OnlineOrder</th>\n",
       "      <th>TableBooking</th>\n",
       "      <th>CuisinesType</th>\n",
       "      <th>Area</th>\n",
       "      <th>LocalAddress</th>\n",
       "      <th>Delivery time</th>\n",
       "    </tr>\n",
       "  </thead>\n",
       "  <tbody>\n",
       "    <tr>\n",
       "      <th>0</th>\n",
       "      <td>1</td>\n",
       "      <td>L-81 Cafe</td>\n",
       "      <td>Quick Bites</td>\n",
       "      <td>3.9</td>\n",
       "      <td>48</td>\n",
       "      <td>400.0</td>\n",
       "      <td>Yes</td>\n",
       "      <td>No</td>\n",
       "      <td>Fast Food, Beverages</td>\n",
       "      <td>Byresandra,Tavarekere,Madiwala</td>\n",
       "      <td>HSR</td>\n",
       "      <td>59</td>\n",
       "    </tr>\n",
       "    <tr>\n",
       "      <th>1</th>\n",
       "      <td>2</td>\n",
       "      <td>refuel</td>\n",
       "      <td>Cafe</td>\n",
       "      <td>3.7</td>\n",
       "      <td>37</td>\n",
       "      <td>400.0</td>\n",
       "      <td>Yes</td>\n",
       "      <td>No</td>\n",
       "      <td>Cafe, Beverages</td>\n",
       "      <td>Bannerghatta Road</td>\n",
       "      <td>Bannerghatta Road</td>\n",
       "      <td>56</td>\n",
       "    </tr>\n",
       "    <tr>\n",
       "      <th>2</th>\n",
       "      <td>3</td>\n",
       "      <td>Biryani Central</td>\n",
       "      <td>Casual Dining</td>\n",
       "      <td>2.7</td>\n",
       "      <td>135</td>\n",
       "      <td>550.0</td>\n",
       "      <td>Yes</td>\n",
       "      <td>No</td>\n",
       "      <td>Biryani, Mughlai, Chinese</td>\n",
       "      <td>Marathahalli</td>\n",
       "      <td>Marathahalli</td>\n",
       "      <td>50</td>\n",
       "    </tr>\n",
       "    <tr>\n",
       "      <th>3</th>\n",
       "      <td>4</td>\n",
       "      <td>The Bbq</td>\n",
       "      <td>Casual Dining</td>\n",
       "      <td>2.8</td>\n",
       "      <td>40</td>\n",
       "      <td>700.0</td>\n",
       "      <td>Yes</td>\n",
       "      <td>No</td>\n",
       "      <td>BBQ, Continental, North Indian, Chinese, Bever...</td>\n",
       "      <td>Bellandur</td>\n",
       "      <td>Bellandur</td>\n",
       "      <td>57</td>\n",
       "    </tr>\n",
       "    <tr>\n",
       "      <th>4</th>\n",
       "      <td>5</td>\n",
       "      <td>The Bbq</td>\n",
       "      <td>Takeaway, Delivery</td>\n",
       "      <td>3.4</td>\n",
       "      <td>37</td>\n",
       "      <td>200.0</td>\n",
       "      <td>No</td>\n",
       "      <td>No</td>\n",
       "      <td>Mughlai, Biryani, Chinese, North Indian</td>\n",
       "      <td>Whitefield</td>\n",
       "      <td>Whitefield</td>\n",
       "      <td>63</td>\n",
       "    </tr>\n",
       "  </tbody>\n",
       "</table>\n",
       "</div>"
      ],
      "text/plain": [
       "   OrderId   RestaurantName      RestaurantType  Rating  No.of.Rating  \\\n",
       "0        1        L-81 Cafe         Quick Bites     3.9            48   \n",
       "1        2           refuel                Cafe     3.7            37   \n",
       "2        3  Biryani Central       Casual Dining     2.7           135   \n",
       "3        4          The Bbq       Casual Dining     2.8            40   \n",
       "4        5          The Bbq  Takeaway, Delivery     3.4            37   \n",
       "\n",
       "   AverageCost OnlineOrder TableBooking  \\\n",
       "0        400.0         Yes           No   \n",
       "1        400.0         Yes           No   \n",
       "2        550.0         Yes           No   \n",
       "3        700.0         Yes           No   \n",
       "4        200.0          No           No   \n",
       "\n",
       "                                        CuisinesType  \\\n",
       "0                               Fast Food, Beverages   \n",
       "1                                    Cafe, Beverages   \n",
       "2                          Biryani, Mughlai, Chinese   \n",
       "3  BBQ, Continental, North Indian, Chinese, Bever...   \n",
       "4            Mughlai, Biryani, Chinese, North Indian   \n",
       "\n",
       "                             Area       LocalAddress  Delivery time  \n",
       "0  Byresandra,Tavarekere,Madiwala                HSR             59  \n",
       "1               Bannerghatta Road  Bannerghatta Road             56  \n",
       "2                    Marathahalli       Marathahalli             50  \n",
       "3                       Bellandur          Bellandur             57  \n",
       "4                      Whitefield         Whitefield             63  "
      ]
     },
     "execution_count": 5,
     "metadata": {},
     "output_type": "execute_result"
    }
   ],
   "source": [
    "df.head()"
   ]
  },
  {
   "cell_type": "code",
   "execution_count": 7,
   "metadata": {},
   "outputs": [
    {
     "data": {
      "text/plain": [
       "Index(['OrderId', 'RestaurantName', 'RestaurantType', 'Rating', 'No.of.Rating',\n",
       "       'AverageCost', 'OnlineOrder', 'TableBooking', 'CuisinesType', 'Area',\n",
       "       'LocalAddress', 'Delivery time'],\n",
       "      dtype='object')"
      ]
     },
     "execution_count": 7,
     "metadata": {},
     "output_type": "execute_result"
    }
   ],
   "source": [
    "df.columns"
   ]
  },
  {
   "cell_type": "code",
   "execution_count": 9,
   "metadata": {},
   "outputs": [
    {
     "name": "stdout",
     "output_type": "stream",
     "text": [
      "<class 'pandas.core.frame.DataFrame'>\n",
      "RangeIndex: 7104 entries, 0 to 7103\n",
      "Data columns (total 12 columns):\n",
      " #   Column          Non-Null Count  Dtype  \n",
      "---  ------          --------------  -----  \n",
      " 0   OrderId         7104 non-null   int64  \n",
      " 1   RestaurantName  7104 non-null   object \n",
      " 2   RestaurantType  7104 non-null   object \n",
      " 3   Rating          7036 non-null   float64\n",
      " 4   No.of.Rating    7104 non-null   int64  \n",
      " 5   AverageCost     7047 non-null   float64\n",
      " 6   OnlineOrder     7104 non-null   object \n",
      " 7   TableBooking    7104 non-null   object \n",
      " 8   CuisinesType    7104 non-null   object \n",
      " 9   Area            7104 non-null   object \n",
      " 10  LocalAddress    7104 non-null   object \n",
      " 11  Delivery time   7104 non-null   int64  \n",
      "dtypes: float64(2), int64(3), object(7)\n",
      "memory usage: 666.1+ KB\n"
     ]
    }
   ],
   "source": [
    "df.info()"
   ]
  },
  {
   "cell_type": "code",
   "execution_count": null,
   "metadata": {},
   "outputs": [],
   "source": []
  }
 ],
 "metadata": {
  "kernelspec": {
   "display_name": "Python 3",
   "language": "python",
   "name": "python3"
  },
  "language_info": {
   "codemirror_mode": {
    "name": "ipython",
    "version": 3
   },
   "file_extension": ".py",
   "mimetype": "text/x-python",
   "name": "python",
   "nbconvert_exporter": "python",
   "pygments_lexer": "ipython3",
   "version": "3.13.0"
  }
 },
 "nbformat": 4,
 "nbformat_minor": 2
}
