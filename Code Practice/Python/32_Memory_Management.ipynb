{
 "cells": [
  {
   "cell_type": "code",
   "execution_count": 1,
   "metadata": {},
   "outputs": [],
   "source": [
    "import sys"
   ]
  },
  {
   "cell_type": "code",
   "execution_count": 2,
   "metadata": {},
   "outputs": [
    {
     "name": "stdout",
     "output_type": "stream",
     "text": [
      "2\n"
     ]
    }
   ],
   "source": [
    "a=[]\n",
    "print(sys.getrefcount(a))"
   ]
  },
  {
   "cell_type": "code",
   "execution_count": 3,
   "metadata": {},
   "outputs": [
    {
     "name": "stdout",
     "output_type": "stream",
     "text": [
      "3\n"
     ]
    }
   ],
   "source": [
    "b=a\n",
    "print(sys.getrefcount(b))"
   ]
  },
  {
   "cell_type": "code",
   "execution_count": 4,
   "metadata": {},
   "outputs": [
    {
     "name": "stdout",
     "output_type": "stream",
     "text": [
      "2\n"
     ]
    }
   ],
   "source": [
    "del b\n",
    "print(sys.getrefcount(a))"
   ]
  },
  {
   "cell_type": "code",
   "execution_count": 5,
   "metadata": {},
   "outputs": [],
   "source": [
    "import gc"
   ]
  },
  {
   "cell_type": "code",
   "execution_count": 6,
   "metadata": {},
   "outputs": [],
   "source": [
    "gc.enable()"
   ]
  },
  {
   "cell_type": "code",
   "execution_count": 7,
   "metadata": {},
   "outputs": [],
   "source": [
    "gc.disable()"
   ]
  },
  {
   "cell_type": "code",
   "execution_count": 8,
   "metadata": {},
   "outputs": [
    {
     "data": {
      "text/plain": [
       "137"
      ]
     },
     "execution_count": 8,
     "metadata": {},
     "output_type": "execute_result"
    }
   ],
   "source": [
    "gc.collect()"
   ]
  },
  {
   "cell_type": "code",
   "execution_count": 9,
   "metadata": {},
   "outputs": [
    {
     "name": "stdout",
     "output_type": "stream",
     "text": [
      "[{'collections': 64, 'collected': 1688, 'uncollectable': 0}, {'collections': 5, 'collected': 104, 'uncollectable': 0}, {'collections': 1, 'collected': 137, 'uncollectable': 0}]\n"
     ]
    }
   ],
   "source": [
    "print(gc.get_stats())"
   ]
  },
  {
   "cell_type": "code",
   "execution_count": 10,
   "metadata": {},
   "outputs": [
    {
     "name": "stdout",
     "output_type": "stream",
     "text": [
      "[]\n"
     ]
    }
   ],
   "source": [
    "print(gc.garbage)"
   ]
  },
  {
   "cell_type": "code",
   "execution_count": 19,
   "metadata": {},
   "outputs": [
    {
     "name": "stdout",
     "output_type": "stream",
     "text": [
      "Object obj1 created\n",
      "Object obj2 created\n"
     ]
    }
   ],
   "source": [
    "import gc\n",
    "\n",
    "class MyObject:\n",
    "    def __init__(self,name):\n",
    "        self.name=name\n",
    "        print(f'Object {self.name} created')\n",
    "\n",
    "    def __del__(self):\n",
    "        print(f'Object {self.name} deleted')\n",
    "\n",
    "obj1=MyObject('obj1')\n",
    "obj2=MyObject('obj2')\n",
    "\n",
    "obj1.ref=obj2\n",
    "obj2.ref=obj1"
   ]
  },
  {
   "cell_type": "code",
   "execution_count": 20,
   "metadata": {},
   "outputs": [],
   "source": [
    "del obj1\n",
    "del obj2"
   ]
  },
  {
   "cell_type": "code",
   "execution_count": 21,
   "metadata": {},
   "outputs": [
    {
     "name": "stdout",
     "output_type": "stream",
     "text": [
      "Object obj1 deleted\n",
      "Object obj2 deleted\n"
     ]
    },
    {
     "data": {
      "text/plain": [
       "9"
      ]
     },
     "execution_count": 21,
     "metadata": {},
     "output_type": "execute_result"
    }
   ],
   "source": [
    "gc.collect()"
   ]
  },
  {
   "cell_type": "code",
   "execution_count": 22,
   "metadata": {},
   "outputs": [
    {
     "name": "stdout",
     "output_type": "stream",
     "text": [
      "0\n",
      "1\n",
      "2\n",
      "3\n",
      "4\n",
      "5\n",
      "6\n",
      "7\n",
      "8\n",
      "9\n",
      "10\n",
      "11\n"
     ]
    }
   ],
   "source": [
    "def generate_numbers(n):\n",
    "    for i in range(n):\n",
    "        yield i\n",
    "\n",
    "for num in generate_numbers(100000):\n",
    "    print(num)\n",
    "    if num>10:\n",
    "        break"
   ]
  },
  {
   "cell_type": "code",
   "execution_count": 23,
   "metadata": {},
   "outputs": [],
   "source": [
    "import tracemalloc"
   ]
  },
  {
   "cell_type": "code",
   "execution_count": 26,
   "metadata": {},
   "outputs": [],
   "source": [
    "def create_list():\n",
    "    return [i for i in range (10000)]\n",
    "\n",
    "def main():\n",
    "    tracemalloc.start()\n",
    "\n",
    "    create_list()\n",
    "\n",
    "    snapshot=tracemalloc.take_snapshot()\n",
    "    top_stats=snapshot.statistics('lineno')\n",
    "\n",
    "    print(\"[Top 10]\")\n",
    "    for stat in top_stats[:]:\n",
    "        print(stat)"
   ]
  },
  {
   "cell_type": "code",
   "execution_count": 27,
   "metadata": {},
   "outputs": [
    {
     "name": "stdout",
     "output_type": "stream",
     "text": [
      "[Top 10]\n",
      "c:\\Users\\pokhr\\Desktop\\Work\\Data Science\\venv\\Lib\\selectors.py:305: size=144 KiB, count=3, average=48.0 KiB\n",
      "c:\\Users\\pokhr\\Desktop\\Work\\Data Science\\venv\\Lib\\site-packages\\IPython\\core\\builtin_trap.py:70: size=6512 B, count=1, average=6512 B\n",
      "c:\\Users\\pokhr\\Desktop\\Work\\Data Science\\venv\\Lib\\site-packages\\IPython\\core\\interactiveshell.py:1584: size=3264 B, count=1, average=3264 B\n",
      "c:\\Users\\pokhr\\Desktop\\Work\\Data Science\\venv\\Lib\\json\\decoder.py:360: size=2505 B, count=34, average=74 B\n",
      "c:\\Users\\pokhr\\Desktop\\Work\\Data Science\\venv\\Lib\\site-packages\\zmq\\sugar\\attrsettr.py:45: size=1363 B, count=29, average=47 B\n",
      "c:\\Users\\pokhr\\Desktop\\Work\\Data Science\\venv\\Lib\\site-packages\\jupyter_client\\session.py:100: size=1243 B, count=8, average=155 B\n",
      "c:\\Users\\pokhr\\Desktop\\Work\\Data Science\\venv\\Lib\\codeop.py:117: size=1220 B, count=9, average=136 B\n",
      "c:\\Users\\pokhr\\Desktop\\Work\\Data Science\\venv\\Lib\\site-packages\\traitlets\\traitlets.py:1514: size=1080 B, count=9, average=120 B\n",
      "c:\\Users\\pokhr\\Desktop\\Work\\Data Science\\venv\\Lib\\site-packages\\zmq\\sugar\\socket.py:811: size=1056 B, count=6, average=176 B\n",
      "c:\\Users\\pokhr\\Desktop\\Work\\Data Science\\venv\\Lib\\site-packages\\traitlets\\traitlets.py:731: size=1014 B, count=16, average=63 B\n",
      "c:\\Users\\pokhr\\Desktop\\Work\\Data Science\\venv\\Lib\\site-packages\\IPython\\core\\compilerop.py:174: size=886 B, count=13, average=68 B\n",
      "c:\\Users\\pokhr\\Desktop\\Work\\Data Science\\venv\\Lib\\site-packages\\jupyter_client\\session.py:1057: size=817 B, count=6, average=136 B\n",
      "c:\\Users\\pokhr\\Desktop\\Work\\Data Science\\venv\\Lib\\site-packages\\jupyter_client\\jsonutil.py:111: size=800 B, count=16, average=50 B\n",
      "c:\\Users\\pokhr\\Desktop\\Work\\Data Science\\venv\\Lib\\site-packages\\traitlets\\traitlets.py:1543: size=789 B, count=13, average=61 B\n",
      "c:\\Users\\pokhr\\Desktop\\Work\\Data Science\\venv\\Lib\\threading.py:297: size=760 B, count=2, average=380 B\n",
      "c:\\Users\\pokhr\\Desktop\\Work\\Data Science\\venv\\Lib\\site-packages\\IPython\\core\\compilerop.py:86: size=729 B, count=9, average=81 B\n",
      "c:\\Users\\pokhr\\Desktop\\Work\\Data Science\\venv\\Lib\\site-packages\\ipykernel\\iostream.py:346: size=664 B, count=10, average=66 B\n",
      "c:\\Users\\pokhr\\Desktop\\Work\\Data Science\\venv\\Lib\\site-packages\\ipykernel\\iostream.py:276: size=592 B, count=6, average=99 B\n",
      "c:\\Users\\pokhr\\Desktop\\Work\\Data Science\\venv\\Lib\\site-packages\\IPython\\core\\interactiveshell.py:3106: size=528 B, count=4, average=132 B\n",
      "c:\\Users\\pokhr\\Desktop\\Work\\Data Science\\venv\\Lib\\asyncio\\events.py:89: size=520 B, count=6, average=87 B\n",
      "c:\\Users\\pokhr\\Desktop\\Work\\Data Science\\venv\\Lib\\site-packages\\ipykernel\\kernelbase.py:775: size=432 B, count=2, average=216 B\n",
      "c:\\Users\\pokhr\\Desktop\\Work\\Data Science\\venv\\Lib\\site-packages\\jupyter_client\\jsonutil.py:75: size=416 B, count=2, average=208 B\n",
      "c:\\Users\\pokhr\\Desktop\\Work\\Data Science\\venv\\Lib\\asyncio\\base_events.py:849: size=384 B, count=4, average=96 B\n",
      "c:\\Users\\pokhr\\Desktop\\Work\\Data Science\\venv\\Lib\\site-packages\\IPython\\core\\interactiveshell.py:3336: size=376 B, count=1, average=376 B\n",
      "c:\\Users\\pokhr\\Desktop\\Work\\Data Science\\venv\\Lib\\site-packages\\ipykernel\\ipkernel.py:362: size=368 B, count=1, average=368 B\n",
      "c:\\Users\\pokhr\\Desktop\\Work\\Data Science\\venv\\Lib\\site-packages\\IPython\\core\\history.py:836: size=360 B, count=5, average=72 B\n",
      "c:\\Users\\pokhr\\Desktop\\Work\\Data Science\\venv\\Lib\\site-packages\\IPython\\core\\history.py:782: size=359 B, count=2, average=180 B\n",
      "c:\\Users\\pokhr\\Desktop\\Work\\Data Science\\venv\\Lib\\threading.py:294: size=344 B, count=3, average=115 B\n",
      "c:\\Users\\pokhr\\Desktop\\Work\\Data Science\\venv\\Lib\\site-packages\\ipykernel\\iostream.py:287: size=328 B, count=4, average=82 B\n",
      "c:\\Users\\pokhr\\Desktop\\Work\\Data Science\\venv\\Lib\\site-packages\\IPython\\core\\interactiveshell.py:3519: size=296 B, count=1, average=296 B\n",
      "c:\\Users\\pokhr\\Desktop\\Work\\Data Science\\venv\\Lib\\site-packages\\ipykernel\\iostream.py:527: size=272 B, count=4, average=68 B\n",
      "c:\\Users\\pokhr\\Desktop\\Work\\Data Science\\venv\\Lib\\site-packages\\tornado\\queues.py:248: size=272 B, count=2, average=136 B\n",
      "c:\\Users\\pokhr\\Desktop\\Work\\Data Science\\venv\\Lib\\asyncio\\base_events.py:460: size=272 B, count=2, average=136 B\n",
      "c:\\Users\\pokhr\\Desktop\\Work\\Data Science\\venv\\Lib\\site-packages\\ipykernel\\kernelbase.py:534: size=272 B, count=1, average=272 B\n",
      "c:\\Users\\pokhr\\Desktop\\Work\\Data Science\\venv\\Lib\\logging\\__init__.py:1602: size=264 B, count=1, average=264 B\n",
      "c:\\Users\\pokhr\\Desktop\\Work\\Data Science\\venv\\Lib\\site-packages\\ipykernel\\kernelbase.py:435: size=248 B, count=1, average=248 B\n",
      "c:\\Users\\pokhr\\Desktop\\Work\\Data Science\\venv\\Lib\\site-packages\\ipykernel\\iostream.py:121: size=248 B, count=1, average=248 B\n",
      "c:\\Users\\pokhr\\Desktop\\Work\\Data Science\\venv\\Lib\\site-packages\\ipykernel\\kernelbase.py:545: size=232 B, count=1, average=232 B\n",
      "c:\\Users\\pokhr\\Desktop\\Work\\Data Science\\venv\\Lib\\site-packages\\ipykernel\\zmqshell.py:549: size=224 B, count=3, average=75 B\n",
      "c:\\Users\\pokhr\\Desktop\\Work\\Data Science\\venv\\Lib\\site-packages\\IPython\\core\\interactiveshell.py:3225: size=224 B, count=2, average=112 B\n",
      "c:\\Users\\pokhr\\Desktop\\Work\\Data Science\\venv\\Lib\\site-packages\\tornado\\platform\\asyncio.py:235: size=208 B, count=3, average=69 B\n",
      "c:\\Users\\pokhr\\Desktop\\Work\\Data Science\\venv\\Lib\\site-packages\\jupyter_client\\session.py:1085: size=208 B, count=1, average=208 B\n",
      "c:\\Users\\pokhr\\Desktop\\Work\\Data Science\\venv\\Lib\\site-packages\\ipykernel\\kernelbase.py:770: size=208 B, count=1, average=208 B\n",
      "c:\\Users\\pokhr\\Desktop\\Work\\Data Science\\venv\\Lib\\site-packages\\ipykernel\\compiler.py:91: size=207 B, count=2, average=104 B\n",
      "c:\\Users\\pokhr\\Desktop\\Work\\Data Science\\venv\\Lib\\asyncio\\futures.py:417: size=200 B, count=5, average=40 B\n",
      "c:\\Users\\pokhr\\Desktop\\Work\\Data Science\\venv\\Lib\\site-packages\\jupyter_client\\session.py:688: size=194 B, count=2, average=97 B\n",
      "c:\\Users\\pokhr\\Desktop\\Work\\Data Science\\venv\\Lib\\site-packages\\jupyter_client\\session.py:750: size=192 B, count=2, average=96 B\n",
      "c:\\Users\\pokhr\\Desktop\\Work\\Data Science\\venv\\Lib\\site-packages\\zmq\\sugar\\socket.py:808: size=184 B, count=2, average=92 B\n",
      "c:\\Users\\pokhr\\Desktop\\Work\\Data Science\\venv\\Lib\\site-packages\\IPython\\core\\interactiveshell.py:3226: size=176 B, count=2, average=88 B\n",
      "c:\\Users\\pokhr\\Desktop\\Work\\Data Science\\venv\\Lib\\site-packages\\ipykernel\\kernelbase.py:1182: size=173 B, count=2, average=86 B\n",
      "c:\\Users\\pokhr\\Desktop\\Work\\Data Science\\venv\\Lib\\site-packages\\ipykernel\\kernelbase.py:570: size=160 B, count=1, average=160 B\n",
      "c:\\Users\\pokhr\\Desktop\\Work\\Data Science\\venv\\Lib\\site-packages\\IPython\\core\\interactiveshell.py:3579: size=160 B, count=1, average=160 B\n",
      "c:\\Users\\pokhr\\Desktop\\Work\\Data Science\\venv\\Lib\\site-packages\\IPython\\core\\interactiveshell.py:3495: size=160 B, count=1, average=160 B\n",
      "c:\\Users\\pokhr\\Desktop\\Work\\Data Science\\venv\\Lib\\site-packages\\IPython\\core\\interactiveshell.py:3239: size=160 B, count=1, average=160 B\n",
      "c:\\Users\\pokhr\\Desktop\\Work\\Data Science\\venv\\Lib\\asyncio\\futures.py:393: size=160 B, count=1, average=160 B\n",
      "c:\\Users\\pokhr\\Desktop\\Work\\Data Science\\venv\\Lib\\asyncio\\futures.py:386: size=160 B, count=1, average=160 B\n",
      "c:\\Users\\pokhr\\Desktop\\Work\\Data Science\\venv\\Lib\\asyncio\\futures.py:380: size=160 B, count=1, average=160 B\n",
      "C:\\Users\\pokhr\\AppData\\Local\\Temp\\ipykernel_10992\\3911217219.py:4: size=160 B, count=1, average=160 B\n",
      "C:\\Users\\pokhr\\AppData\\Local\\Temp\\ipykernel_10992\\3911217219.py:1: size=160 B, count=1, average=160 B\n",
      "c:\\Users\\pokhr\\Desktop\\Work\\Data Science\\venv\\Lib\\site-packages\\ipykernel\\iostream.py:722: size=144 B, count=2, average=72 B\n",
      "c:\\Users\\pokhr\\Desktop\\Work\\Data Science\\venv\\Lib\\site-packages\\ipykernel\\kernelbase.py:318: size=120 B, count=1, average=120 B\n",
      "c:\\Users\\pokhr\\Desktop\\Work\\Data Science\\venv\\Lib\\inspect.py:266: size=120 B, count=1, average=120 B\n",
      "c:\\Users\\pokhr\\Desktop\\Work\\Data Science\\venv\\Lib\\asyncio\\base_events.py:812: size=120 B, count=1, average=120 B\n",
      "c:\\Users\\pokhr\\Desktop\\Work\\Data Science\\venv\\Lib\\site-packages\\jupyter_client\\session.py:989: size=111 B, count=2, average=56 B\n",
      "c:\\Users\\pokhr\\Desktop\\Work\\Data Science\\venv\\Lib\\concurrent\\futures\\_base.py:330: size=104 B, count=1, average=104 B\n",
      "c:\\Users\\pokhr\\Desktop\\Work\\Data Science\\venv\\Lib\\site-packages\\dateutil\\parser\\isoparser.py:146: size=96 B, count=2, average=48 B\n",
      "c:\\Users\\pokhr\\Desktop\\Work\\Data Science\\venv\\Lib\\site-packages\\IPython\\core\\interactiveshell.py:3377: size=96 B, count=2, average=48 B\n",
      "c:\\Users\\pokhr\\Desktop\\Work\\Data Science\\venv\\Lib\\site-packages\\IPython\\core\\history.py:805: size=90 B, count=2, average=45 B\n",
      "c:\\Users\\pokhr\\Desktop\\Work\\Data Science\\venv\\Lib\\threading.py:139: size=88 B, count=2, average=44 B\n",
      "c:\\Users\\pokhr\\Desktop\\Work\\Data Science\\venv\\Lib\\threading.py:296: size=72 B, count=1, average=72 B\n",
      "c:\\Users\\pokhr\\Desktop\\Work\\Data Science\\venv\\Lib\\threading.py:292: size=72 B, count=1, average=72 B\n",
      "c:\\Users\\pokhr\\Desktop\\Work\\Data Science\\venv\\Lib\\threading.py:287: size=72 B, count=1, average=72 B\n",
      "c:\\Users\\pokhr\\Desktop\\Work\\Data Science\\venv\\Lib\\threading.py:286: size=72 B, count=1, average=72 B\n",
      "c:\\Users\\pokhr\\Desktop\\Work\\Data Science\\venv\\Lib\\site-packages\\IPython\\core\\history.py:851: size=72 B, count=1, average=72 B\n",
      "c:\\Users\\pokhr\\Desktop\\Work\\Data Science\\venv\\Lib\\site-packages\\IPython\\core\\history.py:834: size=72 B, count=1, average=72 B\n",
      "c:\\Users\\pokhr\\Desktop\\Work\\Data Science\\venv\\Lib\\site-packages\\tornado\\queues.py:318: size=64 B, count=2, average=32 B\n",
      "c:\\Users\\pokhr\\Desktop\\Work\\Data Science\\venv\\Lib\\site-packages\\IPython\\core\\interactiveshell.py:3511: size=64 B, count=2, average=32 B\n",
      "c:\\Users\\pokhr\\Desktop\\Work\\Data Science\\venv\\Lib\\asyncio\\base_events.py:2011: size=64 B, count=2, average=32 B\n",
      "c:\\Users\\pokhr\\Desktop\\Work\\Data Science\\venv\\Lib\\site-packages\\zmq\\sugar\\socket.py:812: size=64 B, count=1, average=64 B\n",
      "c:\\Users\\pokhr\\Desktop\\Work\\Data Science\\venv\\Lib\\site-packages\\ipykernel\\kernelbase.py:69: size=64 B, count=1, average=64 B\n",
      "c:\\Users\\pokhr\\Desktop\\Work\\Data Science\\venv\\Lib\\site-packages\\ipykernel\\ipkernel.py:384: size=64 B, count=1, average=64 B\n",
      "c:\\Users\\pokhr\\Desktop\\Work\\Data Science\\venv\\Lib\\site-packages\\ipykernel\\ipkernel.py:383: size=64 B, count=1, average=64 B\n",
      "c:\\Users\\pokhr\\Desktop\\Work\\Data Science\\venv\\Lib\\site-packages\\ipykernel\\ipkernel.py:294: size=64 B, count=1, average=64 B\n",
      "c:\\Users\\pokhr\\Desktop\\Work\\Data Science\\venv\\Lib\\site-packages\\ipykernel\\ipkernel.py:291: size=64 B, count=1, average=64 B\n",
      "c:\\Users\\pokhr\\Desktop\\Work\\Data Science\\venv\\Lib\\site-packages\\decorator.py:232: size=64 B, count=1, average=64 B\n",
      "c:\\Users\\pokhr\\Desktop\\Work\\Data Science\\venv\\Lib\\site-packages\\IPython\\core\\interactiveshell.py:3568: size=64 B, count=1, average=64 B\n",
      "c:\\Users\\pokhr\\Desktop\\Work\\Data Science\\venv\\Lib\\site-packages\\IPython\\core\\interactiveshell.py:3305: size=64 B, count=1, average=64 B\n",
      "c:\\Users\\pokhr\\Desktop\\Work\\Data Science\\venv\\Lib\\site-packages\\IPython\\core\\interactiveshell.py:3302: size=64 B, count=1, average=64 B\n",
      "c:\\Users\\pokhr\\Desktop\\Work\\Data Science\\venv\\Lib\\selectors.py:312: size=56 B, count=1, average=56 B\n",
      "c:\\Users\\pokhr\\Desktop\\Work\\Data Science\\venv\\Lib\\site-packages\\ipykernel\\iostream.py:684: size=50 B, count=1, average=50 B\n",
      "c:\\Users\\pokhr\\Desktop\\Work\\Data Science\\venv\\Lib\\site-packages\\jupyter_client\\session.py:200: size=48 B, count=1, average=48 B\n",
      "c:\\Users\\pokhr\\Desktop\\Work\\Data Science\\venv\\Lib\\site-packages\\IPython\\core\\interactiveshell.py:3507: size=48 B, count=1, average=48 B\n",
      "c:\\Users\\pokhr\\Desktop\\Work\\Data Science\\venv\\Lib\\site-packages\\IPython\\core\\history.py:835: size=48 B, count=1, average=48 B\n",
      "c:\\Users\\pokhr\\Desktop\\Work\\Data Science\\venv\\Lib\\site-packages\\IPython\\core\\prefilter.py:317: size=47 B, count=1, average=47 B\n",
      "c:\\Users\\pokhr\\Desktop\\Work\\Data Science\\venv\\Lib\\site-packages\\jupyter_client\\session.py:996: size=32 B, count=1, average=32 B\n",
      "c:\\Users\\pokhr\\Desktop\\Work\\Data Science\\venv\\Lib\\site-packages\\jupyter_client\\session.py:603: size=32 B, count=1, average=32 B\n",
      "c:\\Users\\pokhr\\Desktop\\Work\\Data Science\\venv\\Lib\\site-packages\\ipykernel\\iostream.py:637: size=32 B, count=1, average=32 B\n",
      "c:\\Users\\pokhr\\Desktop\\Work\\Data Science\\venv\\Lib\\site-packages\\ipykernel\\iostream.py:168: size=32 B, count=1, average=32 B\n",
      "c:\\Users\\pokhr\\Desktop\\Work\\Data Science\\venv\\Lib\\site-packages\\IPython\\core\\interactiveshell.py:3505: size=32 B, count=1, average=32 B\n",
      "c:\\Users\\pokhr\\Desktop\\Work\\Data Science\\venv\\Lib\\site-packages\\IPython\\core\\history.py:793: size=32 B, count=1, average=32 B\n",
      "c:\\Users\\pokhr\\Desktop\\Work\\Data Science\\venv\\Lib\\site-packages\\IPython\\core\\compilerop.py:192: size=32 B, count=1, average=32 B\n",
      "c:\\Users\\pokhr\\Desktop\\Work\\Data Science\\venv\\Lib\\queue.py:177: size=32 B, count=1, average=32 B\n",
      "c:\\Users\\pokhr\\Desktop\\Work\\Data Science\\venv\\Lib\\concurrent\\futures\\_base.py:421: size=32 B, count=1, average=32 B\n",
      "c:\\Users\\pokhr\\Desktop\\Work\\Data Science\\venv\\Lib\\asyncio\\base_events.py:815: size=32 B, count=1, average=32 B\n",
      "c:\\Users\\pokhr\\Desktop\\Work\\Data Science\\venv\\Lib\\site-packages\\ipykernel\\kernelbase.py:560: size=28 B, count=1, average=28 B\n",
      "c:\\Users\\pokhr\\Desktop\\Work\\Data Science\\venv\\Lib\\site-packages\\IPython\\core\\compilerop.py:172: size=28 B, count=1, average=28 B\n",
      "c:\\Users\\pokhr\\Desktop\\Work\\Data Science\\venv\\Lib\\site-packages\\IPython\\core\\interactiveshell.py:3487: size=8 B, count=1, average=8 B\n"
     ]
    }
   ],
   "source": [
    "main()"
   ]
  },
  {
   "cell_type": "code",
   "execution_count": null,
   "metadata": {},
   "outputs": [],
   "source": []
  }
 ],
 "metadata": {
  "kernelspec": {
   "display_name": "Python 3",
   "language": "python",
   "name": "python3"
  },
  "language_info": {
   "codemirror_mode": {
    "name": "ipython",
    "version": 3
   },
   "file_extension": ".py",
   "mimetype": "text/x-python",
   "name": "python",
   "nbconvert_exporter": "python",
   "pygments_lexer": "ipython3",
   "version": "3.13.0"
  }
 },
 "nbformat": 4,
 "nbformat_minor": 2
}
