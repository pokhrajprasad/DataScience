{
 "cells": [
  {
   "cell_type": "code",
   "execution_count": 6,
   "metadata": {},
   "outputs": [],
   "source": [
    " class Animal:\n",
    "    def speak(self):\n",
    "        return 'sound of the animal'\n",
    "\n",
    "class Dog(Animal):\n",
    "   def speak(self):\n",
    "      return 'Woof!'\n",
    "   \n",
    "class Cat(Animal):\n",
    "   def speak(self):\n",
    "      return 'Meow!'\n",
    "   \n",
    "def animal_speak(animal):\n",
    "   print(animal.speak())"
   ]
  },
  {
   "cell_type": "code",
   "execution_count": 7,
   "metadata": {},
   "outputs": [
    {
     "name": "stdout",
     "output_type": "stream",
     "text": [
      "Woof!\n",
      "Meow!\n",
      "Woof!\n"
     ]
    }
   ],
   "source": [
    "dog=Dog()\n",
    "cat=Cat()\n",
    "\n",
    "print(dog.speak())\n",
    "print(cat.speak())\n",
    "\n",
    "animal_speak(dog)"
   ]
  },
  {
   "cell_type": "code",
   "execution_count": 11,
   "metadata": {},
   "outputs": [],
   "source": [
    "class Shape:\n",
    "    def area(self):\n",
    "        return 'The area of the figure'\n",
    "    \n",
    "class Rectangle(Shape):\n",
    "    def __init__(Self,w,h):\n",
    "        Self.w=w\n",
    "        Self.h=h\n",
    "\n",
    "    def area(Self):\n",
    "        return Self.w*Self.h\n",
    "    \n",
    "class Circle(Shape):\n",
    "    def __init__(Self,r):\n",
    "        Self.r=r\n",
    "\n",
    "    def area(Self):\n",
    "        return 3.14*Self.r*Self.r\n",
    "    \n",
    "def print_area(shape):\n",
    "    print(f'the area is {shape.area()}')"
   ]
  },
  {
   "cell_type": "code",
   "execution_count": 12,
   "metadata": {},
   "outputs": [
    {
     "name": "stdout",
     "output_type": "stream",
     "text": [
      "the area is 20\n",
      "None\n",
      "the area is 28.259999999999998\n",
      "None\n"
     ]
    }
   ],
   "source": [
    "recatngle=Rectangle(4,5)\n",
    "circle=Circle(3)\n",
    "\n",
    "print(print_area(recatngle))\n",
    "print(print_area(circle))"
   ]
  },
  {
   "cell_type": "code",
   "execution_count": 14,
   "metadata": {},
   "outputs": [],
   "source": [
    "from abc import ABC,abstractmethod"
   ]
  },
  {
   "cell_type": "code",
   "execution_count": 19,
   "metadata": {},
   "outputs": [],
   "source": [
    "class Vehicle(ABC):\n",
    "    @abstractmethod\n",
    "    def start_engine(Self):\n",
    "        pass\n",
    "\n",
    "class Car(Vehicle):\n",
    "    def start_engine(Self):\n",
    "        return 'Car Engine Started'\n",
    "    \n",
    "class Motorcycle(Vehicle):\n",
    "    def start_engine(Self):\n",
    "        return 'Motorcycle Enine started'\n",
    "    \n",
    "def start_vehicle(vehicle):\n",
    "    print(vehicle.start_engine())"
   ]
  },
  {
   "cell_type": "code",
   "execution_count": 21,
   "metadata": {},
   "outputs": [
    {
     "name": "stdout",
     "output_type": "stream",
     "text": [
      "Car Engine Started\n",
      "Motorcycle Enine started\n"
     ]
    }
   ],
   "source": [
    "car=Car()\n",
    "motorcycle=Motorcycle()\n",
    "\n",
    "start_vehicle(car)\n",
    "start_vehicle(motorcycle)"
   ]
  },
  {
   "cell_type": "code",
   "execution_count": null,
   "metadata": {},
   "outputs": [],
   "source": []
  }
 ],
 "metadata": {
  "kernelspec": {
   "display_name": "base",
   "language": "python",
   "name": "python3"
  },
  "language_info": {
   "codemirror_mode": {
    "name": "ipython",
    "version": 3
   },
   "file_extension": ".py",
   "mimetype": "text/x-python",
   "name": "python",
   "nbconvert_exporter": "python",
   "pygments_lexer": "ipython3",
   "version": "3.12.7"
  }
 },
 "nbformat": 4,
 "nbformat_minor": 2
}
