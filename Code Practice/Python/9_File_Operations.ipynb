{
 "cells": [
  {
   "cell_type": "code",
   "execution_count": 11,
   "metadata": {},
   "outputs": [],
   "source": [
    "path = r'C:\\Users\\pokhr\\Desktop\\Work\\Data Science\\Data\\example.txt'"
   ]
  },
  {
   "cell_type": "code",
   "execution_count": null,
   "metadata": {},
   "outputs": [
    {
     "name": "stdout",
     "output_type": "stream",
     "text": [
      "Hello How are you\n",
      "I am good\n",
      "Pokhraj is my name\n",
      "Welcome to Data Science Learning\n"
     ]
    }
   ],
   "source": [
    "with open(path,'r') as file:\n",
    "    content=file.read()\n",
    "    print(content)"
   ]
  },
  {
   "cell_type": "code",
   "execution_count": null,
   "metadata": {},
   "outputs": [
    {
     "name": "stdout",
     "output_type": "stream",
     "text": [
      "Hello How are you\n",
      "I am good\n",
      "Pokhraj is my name\n",
      "Welcome to Data Science Learning\n"
     ]
    }
   ],
   "source": [
    "with open(path,'r') as file:\n",
    "    for line in file:\n",
    "        #print(line)\n",
    "        print(line.strip())"
   ]
  },
  {
   "cell_type": "code",
   "execution_count": 12,
   "metadata": {},
   "outputs": [],
   "source": [
    "with open(path,'w') as file:\n",
    "    file.write('Hello world\\n')\n",
    "    file.write('This is a new line\\n')"
   ]
  },
  {
   "cell_type": "code",
   "execution_count": 17,
   "metadata": {},
   "outputs": [],
   "source": [
    "with open(path,'a') as file:\n",
    "    file.write('Append Operation\\n')\n",
    "    #file.write('This is a new line\\n')"
   ]
  },
  {
   "cell_type": "code",
   "execution_count": 18,
   "metadata": {},
   "outputs": [],
   "source": [
    "lines=['First line \\n', 'Second line \\n', 'Third line \\n']\n",
    "\n",
    "with open(path,'a') as file:\n",
    "    file.writelines(lines)\n"
   ]
  },
  {
   "cell_type": "code",
   "execution_count": 20,
   "metadata": {},
   "outputs": [],
   "source": [
    "binary_path=r'C:\\Users\\pokhr\\Desktop\\Work\\Data Science\\Data\\example.bin'"
   ]
  },
  {
   "cell_type": "code",
   "execution_count": 21,
   "metadata": {},
   "outputs": [],
   "source": [
    "data=b'\\x00\\x01\\x02\\x04'\n",
    "\n",
    "with open(binary_path,'wb') as file:\n",
    "    file.write(data)"
   ]
  },
  {
   "cell_type": "code",
   "execution_count": 22,
   "metadata": {},
   "outputs": [
    {
     "name": "stdout",
     "output_type": "stream",
     "text": [
      "b'\\x00\\x01\\x02\\x04'\n"
     ]
    }
   ],
   "source": [
    "with open(binary_path,'rb') as file:\n",
    "    content=file.read()\n",
    "    print(content)"
   ]
  },
  {
   "cell_type": "code",
   "execution_count": 23,
   "metadata": {},
   "outputs": [],
   "source": [
    "with open(path,'r') as file:\n",
    "    content=file.read()\n",
    "\n",
    "with open(r'C:\\Users\\pokhr\\Desktop\\Work\\Data Science\\Data\\destination.txt','w') as file:\n",
    "    file.write(content)   \n"
   ]
  },
  {
   "cell_type": "code",
   "execution_count": 27,
   "metadata": {},
   "outputs": [
    {
     "name": "stdout",
     "output_type": "stream",
     "text": [
      "10 171 25\n"
     ]
    }
   ],
   "source": [
    "def count_text_file(path):\n",
    "    with open(path,'r') as file:\n",
    "        lines=file.readlines()\n",
    "        count_lines=len(lines)\n",
    "        count_words=sum([len(line.split()) for line in lines])\n",
    "        count_char=sum([len(line) for line in lines])\n",
    "    return count_lines,count_char,count_words\n",
    "\n",
    "lines,words,char=count_text_file(path)\n",
    "print(lines,words,char)"
   ]
  },
  {
   "cell_type": "code",
   "execution_count": 34,
   "metadata": {},
   "outputs": [
    {
     "name": "stdout",
     "output_type": "stream",
     "text": [
      "Hello World\n",
      "This is a new line\n",
      "\n"
     ]
    }
   ],
   "source": [
    "with open(path,'w+') as file:\n",
    "    file.write('Hello World\\n')\n",
    "    file.write('This is a new line\\n')\n",
    "\n",
    "    file.seek(0)\n",
    "\n",
    "    content=file.read()\n",
    "    print(content)"
   ]
  },
  {
   "cell_type": "code",
   "execution_count": 36,
   "metadata": {},
   "outputs": [],
   "source": [
    "import os\n",
    "new_dir=r'C:\\Users\\pokhr\\Desktop\\Work\\Data Science\\Data\\new_dir'\n",
    "os.mkdir(new_dir)"
   ]
  },
  {
   "cell_type": "code",
   "execution_count": 39,
   "metadata": {},
   "outputs": [
    {
     "name": "stdout",
     "output_type": "stream",
     "text": [
      "['1_basic.ipynb', '2_datatypes.ipynb', '3_variables.ipynb', '4_operators.ipynb', '5_datastructures.ipynb', '6_control_flow.ipynb', '7_functions.ipynb', '8_import.ipynb', '9_File_Operations.ipynb', 'modules', 'standard_library_overview.ipynb']\n"
     ]
    }
   ],
   "source": [
    "items=os.listdir('.')\n",
    "print(items)"
   ]
  },
  {
   "cell_type": "code",
   "execution_count": 41,
   "metadata": {},
   "outputs": [
    {
     "name": "stdout",
     "output_type": "stream",
     "text": [
      "c:\\Users\\pokhr\\Desktop\\Work\\Data Science\\Code Practice\\Python\\folder\\file.txt\n"
     ]
    }
   ],
   "source": [
    "folder_name='folder'\n",
    "file_name='file.txt'\n",
    "\n",
    "full_path=os.path.join(os.getcwd(),folder_name,file_name)\n",
    "print(full_path)"
   ]
  },
  {
   "cell_type": "code",
   "execution_count": null,
   "metadata": {},
   "outputs": [
    {
     "name": "stdout",
     "output_type": "stream",
     "text": [
      "This file exists\n"
     ]
    }
   ],
   "source": [
    "path=r'C:\\Users\\pokhr\\Desktop\\Work\\Data Science\\Data\\example.txt'\n",
    "\n",
    "if os.path.exists(path):\n",
    "    print(f'This file exists')\n",
    "else:\n",
    "    print('This file does not exists')"
   ]
  },
  {
   "cell_type": "code",
   "execution_count": 46,
   "metadata": {},
   "outputs": [
    {
     "name": "stdout",
     "output_type": "stream",
     "text": [
      "This is a dir\n"
     ]
    }
   ],
   "source": [
    "path=r'C:\\Users\\pokhr\\Desktop\\Work\\Data Science\\Data'\n",
    "\n",
    "if os.path.isfile(path):\n",
    "    print(f'This is a file.')\n",
    "elif os.path.isdir(path):\n",
    "    print(f'This is a dir')\n",
    "else:\n",
    "    print('Neither file nor dir')"
   ]
  },
  {
   "cell_type": "code",
   "execution_count": 47,
   "metadata": {},
   "outputs": [
    {
     "name": "stdout",
     "output_type": "stream",
     "text": [
      "c:\\Users\\pokhr\\Desktop\\Work\\Data Science\\Code Practice\\Python\\9_File_Operations.ipynb\n"
     ]
    }
   ],
   "source": [
    "relative_path=r'9_File_Operations.ipynb'\n",
    "abs_path=os.path.abspath(relative_path)\n",
    "\n",
    "print(abs_path)"
   ]
  },
  {
   "cell_type": "code",
   "execution_count": null,
   "metadata": {},
   "outputs": [],
   "source": []
  }
 ],
 "metadata": {
  "kernelspec": {
   "display_name": "base",
   "language": "python",
   "name": "python3"
  },
  "language_info": {
   "codemirror_mode": {
    "name": "ipython",
    "version": 3
   },
   "file_extension": ".py",
   "mimetype": "text/x-python",
   "name": "python",
   "nbconvert_exporter": "python",
   "pygments_lexer": "ipython3",
   "version": "3.12.7"
  }
 },
 "nbformat": 4,
 "nbformat_minor": 2
}
